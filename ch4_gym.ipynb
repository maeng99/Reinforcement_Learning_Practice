{
 "cells": [
  {
   "cell_type": "code",
   "execution_count": 1,
   "metadata": {},
   "outputs": [],
   "source": [
    "import gym\n",
    "import time\n",
    "import numpy as np\n",
    "import matplotlib.pyplot as plt"
   ]
  },
  {
   "cell_type": "code",
   "execution_count": 2,
   "metadata": {},
   "outputs": [
    {
     "data": {
      "text/plain": [
       "0"
      ]
     },
     "execution_count": 2,
     "metadata": {},
     "output_type": "execute_result"
    }
   ],
   "source": [
    "# env = gym.make('FrozenLake-v1', render_mode='human')\n",
    "env = gym.make('FrozenLake-v1', render_mode='ansi')\n",
    "s, _ = env.reset()\n",
    "s"
   ]
  },
  {
   "cell_type": "code",
   "execution_count": 3,
   "metadata": {},
   "outputs": [
    {
     "name": "stdout",
     "output_type": "stream",
     "text": [
      "\n",
      "\u001b[41mS\u001b[0mFFF\n",
      "FHFH\n",
      "FFFH\n",
      "HFFG\n",
      "\n"
     ]
    }
   ],
   "source": [
    "print(env.render())"
   ]
  },
  {
   "cell_type": "code",
   "execution_count": 4,
   "metadata": {},
   "outputs": [
    {
     "data": {
      "text/plain": [
       "Discrete(16)"
      ]
     },
     "execution_count": 4,
     "metadata": {},
     "output_type": "execute_result"
    }
   ],
   "source": [
    "env.observation_space"
   ]
  },
  {
   "cell_type": "code",
   "execution_count": 5,
   "metadata": {},
   "outputs": [
    {
     "data": {
      "text/plain": [
       "16"
      ]
     },
     "execution_count": 5,
     "metadata": {},
     "output_type": "execute_result"
    }
   ],
   "source": [
    "env.observation_space.n"
   ]
  },
  {
   "cell_type": "code",
   "execution_count": 6,
   "metadata": {},
   "outputs": [
    {
     "data": {
      "text/plain": [
       "Discrete(4)"
      ]
     },
     "execution_count": 6,
     "metadata": {},
     "output_type": "execute_result"
    }
   ],
   "source": [
    "env.action_space"
   ]
  },
  {
   "cell_type": "code",
   "execution_count": 7,
   "metadata": {},
   "outputs": [
    {
     "data": {
      "text/plain": [
       "4"
      ]
     },
     "execution_count": 7,
     "metadata": {},
     "output_type": "execute_result"
    }
   ],
   "source": [
    "env.action_space.n"
   ]
  },
  {
   "cell_type": "code",
   "execution_count": 8,
   "metadata": {},
   "outputs": [],
   "source": [
    "# action\n",
    "# 0: Left\n",
    "# 1: Down\n",
    "# 2: Right\n",
    "# 3: Up"
   ]
  },
  {
   "cell_type": "code",
   "execution_count": 9,
   "metadata": {},
   "outputs": [
    {
     "data": {
      "text/plain": [
       "[(0.3333333333333333, 4, 0.0, False),\n",
       " (0.3333333333333333, 1, 0.0, False),\n",
       " (0.3333333333333333, 0, 0.0, False)]"
      ]
     },
     "execution_count": 9,
     "metadata": {},
     "output_type": "execute_result"
    }
   ],
   "source": [
    "# P[s][a]\n",
    "env.P[0][2]\n",
    "# result: probability, next state, reward, terminal state"
   ]
  },
  {
   "cell_type": "code",
   "execution_count": 10,
   "metadata": {},
   "outputs": [
    {
     "data": {
      "text/plain": [
       "[(0.3333333333333333, 13, 0.0, False),\n",
       " (0.3333333333333333, 10, 0.0, False),\n",
       " (0.3333333333333333, 5, 0.0, True)]"
      ]
     },
     "execution_count": 10,
     "metadata": {},
     "output_type": "execute_result"
    }
   ],
   "source": [
    "# P[s][a]\n",
    "env.P[9][2]\n",
    "# result: probability, next state, reward, terminal state"
   ]
  },
  {
   "cell_type": "code",
   "execution_count": 11,
   "metadata": {},
   "outputs": [
    {
     "data": {
      "text/plain": [
       "[(0.3333333333333333, 14, 0.0, False),\n",
       " (0.3333333333333333, 15, 1.0, True),\n",
       " (0.3333333333333333, 10, 0.0, False)]"
      ]
     },
     "execution_count": 11,
     "metadata": {},
     "output_type": "execute_result"
    }
   ],
   "source": [
    "# P[s][a]\n",
    "env.P[14][2]\n",
    "# result: probability, next state, reward, terminal state"
   ]
  },
  {
   "cell_type": "code",
   "execution_count": 12,
   "metadata": {},
   "outputs": [
    {
     "data": {
      "text/plain": [
       "(1, 0.0, False, False, {'prob': 0.3333333333333333})"
      ]
     },
     "execution_count": 12,
     "metadata": {},
     "output_type": "execute_result"
    }
   ],
   "source": [
    "a = 2\n",
    "next_s, reward, terminated, truncated, info = env.step(a)\n",
    "next_s, reward, terminated, truncated, info"
   ]
  },
  {
   "cell_type": "code",
   "execution_count": 13,
   "metadata": {},
   "outputs": [
    {
     "data": {
      "text/plain": [
       "3"
      ]
     },
     "execution_count": 13,
     "metadata": {},
     "output_type": "execute_result"
    }
   ],
   "source": [
    "a = env.action_space.sample() # random (uniform) policy\n",
    "a"
   ]
  },
  {
   "cell_type": "code",
   "execution_count": 14,
   "metadata": {},
   "outputs": [
    {
     "data": {
      "text/plain": [
       "(0, 0.0, False, False, {'prob': 0.3333333333333333})"
      ]
     },
     "execution_count": 14,
     "metadata": {},
     "output_type": "execute_result"
    }
   ],
   "source": [
    "next_s, reward, terminated, truncated, info = env.step(a)\n",
    "next_s, reward, terminated, truncated, info"
   ]
  },
  {
   "cell_type": "code",
   "execution_count": 15,
   "metadata": {},
   "outputs": [],
   "source": [
    "env.close()"
   ]
  },
  {
   "cell_type": "code",
   "execution_count": 16,
   "metadata": {},
   "outputs": [
    {
     "name": "stdout",
     "output_type": "stream",
     "text": [
      "\n",
      "\u001b[41mS\u001b[0mFFF\n",
      "FHFH\n",
      "FFFH\n",
      "HFFG\n",
      "\n",
      "  (Left)\n",
      "\u001b[41mS\u001b[0mFFF\n",
      "FHFH\n",
      "FFFH\n",
      "HFFG\n",
      "\n",
      "  (Down)\n",
      "SFFF\n",
      "\u001b[41mF\u001b[0mHFH\n",
      "FFFH\n",
      "HFFG\n",
      "\n",
      "  (Up)\n",
      "SFFF\n",
      "F\u001b[41mH\u001b[0mFH\n",
      "FFFH\n",
      "HFFG\n",
      "\n"
     ]
    }
   ],
   "source": [
    "# simulation of one episode (text mode)\n",
    "env = gym.make('FrozenLake-v1', render_mode='ansi')\n",
    "s, _ = env.reset()\n",
    "print(env.render())\n",
    "\n",
    "while True:\n",
    "    a = env.action_space.sample() # random (uniform) policy\n",
    "    s, r, terminated, _, _ = env.step(a)\n",
    "    print(env.render())\n",
    "    if terminated:\n",
    "        break\n",
    "\n",
    "env.close()"
   ]
  },
  {
   "cell_type": "code",
   "execution_count": 19,
   "metadata": {},
   "outputs": [
    {
     "ename": "",
     "evalue": "",
     "output_type": "error",
     "traceback": [
      "\u001b[1;31mThe Kernel crashed while executing code in the current cell or a previous cell. \n",
      "\u001b[1;31mPlease review the code in the cell(s) to identify a possible cause of the failure. \n",
      "\u001b[1;31mClick <a href='https://aka.ms/vscodeJupyterKernelCrash'>here</a> for more info. \n",
      "\u001b[1;31mView Jupyter <a href='command:jupyter.viewOutput'>log</a> for further details."
     ]
    }
   ],
   "source": [
    "# simulation of one episode (graphic mode)\n",
    "env = gym.make('FrozenLake-v1', render_mode='human')\n",
    "s, _ = env.reset()\n",
    "env.render()\n",
    "while True:\n",
    "    a = env.action_space.sample() # random (uniform) policy\n",
    "    s, r, terminated, _, _ = env.step(a)\n",
    "    time.sleep(0.5)\n",
    "    env.render()\n",
    "    if terminated:\n",
    "        break\n",
    "env.close()"
   ]
  },
  {
   "cell_type": "code",
   "execution_count": 18,
   "metadata": {},
   "outputs": [
    {
     "name": "stdout",
     "output_type": "stream",
     "text": [
      "states: [0, 1, 0, 0, 1, 2, 1, 0, 4, 8, 12]\n",
      "actions: [3, 1, 2, 3, 2, 3, 3, 0, 2, 2]\n",
      "rewards: [0.0, 0.0, 0.0, 0.0, 0.0, 0.0, 0.0, 0.0, 0.0, 0.0]\n"
     ]
    }
   ],
   "source": [
    "# simulation of one episode (without rendering)\n",
    "env = gym.make('FrozenLake-v1')\n",
    "s, _ = env.reset()\n",
    "episode_states = [s]\n",
    "episode_rewards = []\n",
    "episode_actions = []\n",
    "\n",
    "while True:\n",
    "    a = env.action_space.sample() # random (uniform) policy\n",
    "    s, r, terminated, _, _ = env.step(a)\n",
    "\n",
    "    episode_states.append(s)\n",
    "    episode_rewards.append(r)\n",
    "    episode_actions.append(a)\n",
    "\n",
    "    if terminated:\n",
    "        break\n",
    "\n",
    "env.close()\n",
    "\n",
    "print('states:', episode_states)\n",
    "print('actions:', episode_actions)\n",
    "print('rewards:', episode_rewards)"
   ]
  },
  {
   "cell_type": "code",
   "execution_count": 20,
   "metadata": {},
   "outputs": [],
   "source": [
    "def get_return(rewards, gamma):\n",
    "    G = 0.0\n",
    "    for t, r in enumerate(rewards):\n",
    "        G += (gamma ** t) * r\n",
    "\n",
    "    return G"
   ]
  },
  {
   "cell_type": "code",
   "execution_count": 21,
   "metadata": {},
   "outputs": [
    {
     "data": {
      "text/plain": [
       "0.0"
      ]
     },
     "execution_count": 21,
     "metadata": {},
     "output_type": "execute_result"
    }
   ],
   "source": [
    "gamma = 0.9\n",
    "get_return(episode_rewards, gamma)"
   ]
  },
  {
   "cell_type": "code",
   "execution_count": 29,
   "metadata": {},
   "outputs": [],
   "source": [
    "# simulation of multiple episodes\n",
    "env = gym.make('FrozenLake-v1')\n",
    "gamma = 0.9\n",
    "N_EPISODES = 1000\n",
    "list_G = []\n",
    "\n",
    "for i in range(N_EPISODES):\n",
    "    s, _ = env.reset()\n",
    "    G = 0.0\n",
    "    t = 0\n",
    "    while True:\n",
    "        a = env.action_space.sample() # random (uniform) policy\n",
    "        s, r, terminated, _, _ = env.step(a)\n",
    "        G += (gamma ** t) * r\n",
    "        t += 1\n",
    "\n",
    "        if terminated:\n",
    "            list_G.append(G)\n",
    "            break\n",
    "env.close()"
   ]
  },
  {
   "cell_type": "code",
   "execution_count": 23,
   "metadata": {},
   "outputs": [
    {
     "data": {
      "image/png": "[encoded data removed]",
      "text/plain": [
       "<Figure size 640x480 with 1 Axes>"
      ]
     },
     "metadata": {},
     "output_type": "display_data"
    },
    {
     "name": "stdout",
     "output_type": "stream",
     "text": [
      "Mean return (value) of state 0 = 0.00467\n"
     ]
    }
   ],
   "source": [
    "plt.figure()\n",
    "plt.plot(list_G)\n",
    "plt.show()\n",
    "\n",
    "print(f'Mean return (value) of state 0 = {np.mean(list_G):.5f}')"
   ]
  },
  {
   "cell_type": "code",
   "execution_count": 24,
   "metadata": {},
   "outputs": [],
   "source": [
    "# a custom policy\n",
    "def get_action(s):\n",
    "    # move down if agent is beside the right wall (states 3, 7, and 11),\n",
    "    # else move right\n",
    "    a = 1 if s in [3, 7, 11] else 2\n",
    "    return a"
   ]
  },
  {
   "cell_type": "code",
   "execution_count": 25,
   "metadata": {},
   "outputs": [
    {
     "data": {
      "text/plain": [
       "2"
      ]
     },
     "execution_count": 25,
     "metadata": {},
     "output_type": "execute_result"
    }
   ],
   "source": [
    "get_action(0)"
   ]
  },
  {
   "cell_type": "code",
   "execution_count": 26,
   "metadata": {},
   "outputs": [
    {
     "data": {
      "text/plain": [
       "1"
      ]
     },
     "execution_count": 26,
     "metadata": {},
     "output_type": "execute_result"
    }
   ],
   "source": [
    "get_action(3)"
   ]
  },
  {
   "cell_type": "code",
   "execution_count": 27,
   "metadata": {},
   "outputs": [],
   "source": [
    "# simulation of multiple episodes\n",
    "# with the custom policy defined above\n",
    "env = gym.make('FrozenLake-v1')\n",
    "gamma = 0.9\n",
    "N_EPISODES = 1000\n",
    "list_G = []\n",
    "\n",
    "for i in range(N_EPISODES):\n",
    "    s, _ = env.reset()\n",
    "    G = 0.0\n",
    "    t = 0\n",
    "    while True:\n",
    "        a = get_action(s) # the custom policy\n",
    "        s, r, terminated, _, _ = env.step(a)\n",
    "        G += (gamma ** t) * r\n",
    "        t += 1\n",
    "\n",
    "        if terminated:\n",
    "            list_G.append(G)\n",
    "            break\n",
    "\n",
    "env.close()"
   ]
  },
  {
   "cell_type": "code",
   "execution_count": 28,
   "metadata": {},
   "outputs": [
    {
     "data": {
      "image/png": "[encoded data removed]",
      "text/plain": [
       "<Figure size 640x480 with 1 Axes>"
      ]
     },
     "metadata": {},
     "output_type": "display_data"
    },
    {
     "name": "stdout",
     "output_type": "stream",
     "text": [
      "Mean return (value) of state 0 = 0.01010\n"
     ]
    }
   ],
   "source": [
    "plt.figure()\n",
    "plt.plot(list_G)\n",
    "plt.show()\n",
    "\n",
    "print(f'Mean return (value) of state 0 = {np.mean(list_G):.5f}')"
   ]
  },
  {
   "cell_type": "code",
   "execution_count": null,
   "metadata": {},
   "outputs": [],
   "source": []
  }
 ],
 "metadata": {
  "kernelspec": {
   "display_name": "venv_395",
   "language": "python",
   "name": "python3"
  },
  "language_info": {
   "codemirror_mode": {
    "name": "ipython",
    "version": 3
   },
   "file_extension": ".py",
   "mimetype": "text/x-python",
   "name": "python",
   "nbconvert_exporter": "python",
   "pygments_lexer": "ipython3",
   "version": "3.9.20"
  }
 },
 "nbformat": 4,
 "nbformat_minor": 2
}
